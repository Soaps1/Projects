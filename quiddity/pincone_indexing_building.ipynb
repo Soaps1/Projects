{
 "cells": [
  {
   "cell_type": "code",
   "execution_count": 1,
   "id": "24fe87e0-e974-465d-9f1a-e474be164a50",
   "metadata": {},
   "outputs": [
    {
     "name": "stdout",
     "output_type": "stream",
     "text": [
      "C:\\Users\\Schalk\\anaconda3\n"
     ]
    }
   ],
   "source": [
    "import sys\n",
    "print(sys.prefix)"
   ]
  },
  {
   "cell_type": "code",
   "execution_count": 7,
   "id": "70f2537a-2520-4b56-aec1-0e37a59a7886",
   "metadata": {},
   "outputs": [],
   "source": [
    "from langchain.document_loaders import UnstructuredPDFLoader, OnlinePDFLoader, PyPDFLoader, TextLoader\n",
    "from langchain.text_splitter import RecursiveCharacterTextSplitter\n",
    "from langchain_pinecone import PineconeVectorStore\n",
    "from langchain_openai import OpenAIEmbeddings\n",
    "import os, getpass"
   ]
  },
  {
   "cell_type": "code",
   "execution_count": 10,
   "id": "0f16e5b1-a92a-4fa2-badb-818f17f09e1d",
   "metadata": {},
   "outputs": [],
   "source": [
    "from langchain.vectorstores import Pinecone\n",
    "from pinecone import Pinecone, ServerlessSpec"
   ]
  },
  {
   "cell_type": "code",
   "execution_count": 5,
   "id": "15298efa-e378-49aa-be74-6a56a8599133",
   "metadata": {},
   "outputs": [],
   "source": [
    "from dotenv import load_dotenv\n",
    "load_dotenv()\n",
    "\n",
    "PINECONE_API_KEY = os.environ[\"PINECONE_API_KEY\"]\n",
    "OPENAI_API_KEY = os.environ[\"OPENAI_API_KEY\"]\n",
    "PINECONE_INDEX_NAME = os.environ[\"PINECONE_INDEX_NAME\"]"
   ]
  },
  {
   "cell_type": "code",
   "execution_count": 12,
   "id": "89b4060d-9cbc-4f1e-bdd9-a6a47a681734",
   "metadata": {},
   "outputs": [],
   "source": [
    "pc = Pinecone(api_key=PINECONE_API_KEY)"
   ]
  },
  {
   "cell_type": "code",
   "execution_count": 7,
   "id": "9ae5c3c3-4f45-41f6-a02d-9fa6687d1884",
   "metadata": {},
   "outputs": [],
   "source": [
    "from langchain_community.document_loaders import PyPDFLoader\n",
    "from langchain_community.document_loaders import TextLoader\n",
    "\n",
    "loader = PyPDFLoader(r\"C:\\Users\\Schalk\\OneDrive - Columbia Business School\\2024\\Recruiting\\Schalk Burger Resume.pdf\")"
   ]
  },
  {
   "cell_type": "code",
   "execution_count": 8,
   "id": "2135df60-17f1-4b06-904f-4cfaac8a1955",
   "metadata": {},
   "outputs": [],
   "source": [
    "data = loader.load()"
   ]
  },
  {
   "cell_type": "code",
   "execution_count": 9,
   "id": "edd82aa3-9790-4e6e-b787-91dfec84c001",
   "metadata": {},
   "outputs": [],
   "source": [
    "for doc in data:\n",
    "    if not hasattr(doc, 'metadata'):\n",
    "        doc.metadata = {}\n",
    "    doc.metadata[\"Document Type\"] = \"Academics\""
   ]
  },
  {
   "cell_type": "code",
   "execution_count": 15,
   "id": "6677397f-4a90-4f2f-b549-3b48eb9fb5b6",
   "metadata": {},
   "outputs": [
    {
     "name": "stdout",
     "output_type": "stream",
     "text": [
      "You have 1 document(s) in your data\n",
      "There are 3709 characters in your sample document\n",
      "Here is a sample: SCHALK BURGER  \n",
      "929 325 9282 , sburger25@gsb.columbia.edu  \n",
      " \n",
      "EDUCATION  \n",
      " \n",
      "COLUMBIA BUSINESS SCHOOL  New York, NY  \n",
      "MBA , Applied Mathematical Statistics & Data Science  Spring 2025  \n",
      "Leadership:  Cl\n",
      "Metadata: {'source': 'C:\\\\Users\\\\Schalk\\\\OneDrive - Columbia Business School\\\\2024\\\\Recruiting\\\\Schalk Burger Resume.pdf', 'page': 0, 'Document Type': 'Academics'}\n"
     ]
    }
   ],
   "source": [
    "# Note: If you're using PyPDFLoader then it will split by page for you already\n",
    "print (f'You have {len(data)} document(s) in your data')\n",
    "print (f'There are {len(data[0].page_content)} characters in your sample document')\n",
    "print (f'Here is a sample: {data[0].page_content[:200]}')\n",
    "print(f'Metadata: {data[0].metadata}')"
   ]
  },
  {
   "cell_type": "code",
   "execution_count": 16,
   "id": "8d908aa7-bfd9-4491-b570-d12e2e7c3f7f",
   "metadata": {},
   "outputs": [],
   "source": [
    "# We'll split our data into chunks around 500 characters each with a 50 character overlap. These are relatively small.\n",
    "\n",
    "text_splitter = RecursiveCharacterTextSplitter(chunk_size=400, chunk_overlap=100)\n",
    "docs = text_splitter.split_documents(data)"
   ]
  },
  {
   "cell_type": "code",
   "execution_count": 17,
   "id": "2c9bb2d4-5025-4cd4-bbb6-4f6985d3b4b4",
   "metadata": {},
   "outputs": [
    {
     "name": "stdout",
     "output_type": "stream",
     "text": [
      "Now you have 12 documents\n"
     ]
    }
   ],
   "source": [
    "# Let's see how many small chunks we have\n",
    "print (f'Now you have {len(docs)} documents')"
   ]
  },
  {
   "cell_type": "code",
   "execution_count": 18,
   "id": "267dad0e-b771-4864-921d-d63af14168bb",
   "metadata": {},
   "outputs": [],
   "source": [
    "model_name = 'text-embedding-ada-002'  \n",
    "embeddings = OpenAIEmbeddings(  \n",
    "    model=model_name,  \n",
    "    openai_api_key=OPENAI_API_KEY\n",
    ")\n",
    "\n",
    "vectorstore_from_docs = PineconeVectorStore.from_documents(\n",
    "        docs,\n",
    "        index_name=PINECONE_INDEX_NAME,\n",
    "        embedding=embeddings,\n",
    "        namespace='schalk-burger'\n",
    "    )\n",
    "\n",
    "#docsearch = Pinecone.from_texts([t.page_content for t in docs], embeddings, index_name=PINECONE_INDEX_NAME, namespace = 'schalk-burger')"
   ]
  },
  {
   "cell_type": "code",
   "execution_count": 14,
   "id": "1a09d101-ccf0-4518-8544-6986e41ba88c",
   "metadata": {},
   "outputs": [],
   "source": [
    "pc.create_index(  \n",
    "    'quinn',  \n",
    "    dimension=1536,  # dimensionality of text-embedding-ada-002  \n",
    "    metric='cosine',  \n",
    "    spec=ServerlessSpec(cloud='aws', region='us-east-1')  \n",
    ")  "
   ]
  },
  {
   "cell_type": "code",
   "execution_count": 13,
   "id": "1956fa22-f313-499f-938e-2720ec3c9d03",
   "metadata": {},
   "outputs": [],
   "source": [
    "pc.delete_index('quinn')"
   ]
  }
 ],
 "metadata": {
  "kernelspec": {
   "display_name": "Python 3 (ipykernel)",
   "language": "python",
   "name": "python3"
  },
  "language_info": {
   "codemirror_mode": {
    "name": "ipython",
    "version": 3
   },
   "file_extension": ".py",
   "mimetype": "text/x-python",
   "name": "python",
   "nbconvert_exporter": "python",
   "pygments_lexer": "ipython3",
   "version": "3.11.7"
  }
 },
 "nbformat": 4,
 "nbformat_minor": 5
}
