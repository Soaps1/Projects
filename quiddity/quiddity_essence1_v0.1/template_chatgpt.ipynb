{
 "cells": [
  {
   "cell_type": "code",
   "execution_count": 1,
   "id": "530e596f-8e97-4bc9-aadb-9d7e29bd6f9f",
   "metadata": {},
   "outputs": [
    {
     "name": "stdout",
     "output_type": "stream",
     "text": [
      "Requirement already satisfied: torch in c:\\users\\schalk\\environments\\lib\\site-packages (2.3.0)\n",
      "Requirement already satisfied: torchvision in c:\\users\\schalk\\environments\\lib\\site-packages (0.18.0)\n",
      "Collecting transformers\n",
      "  Downloading transformers-4.41.1-py3-none-any.whl.metadata (43 kB)\n",
      "     ---------------------------------------- 0.0/43.8 kB ? eta -:--:--\n",
      "     --------- ------------------------------ 10.2/43.8 kB ? eta -:--:--\n",
      "     -------------------------- ----------- 30.7/43.8 kB 325.1 kB/s eta 0:00:01\n",
      "     -------------------------------------- 43.8/43.8 kB 357.2 kB/s eta 0:00:00\n",
      "Collecting easyocr\n",
      "  Downloading easyocr-1.7.1-py3-none-any.whl.metadata (11 kB)\n",
      "Requirement already satisfied: filelock in c:\\users\\schalk\\environments\\lib\\site-packages (from torch) (3.13.1)\n",
      "Requirement already satisfied: typing-extensions>=4.8.0 in c:\\users\\schalk\\environments\\lib\\site-packages (from torch) (4.9.0)\n",
      "Requirement already satisfied: sympy in c:\\users\\schalk\\environments\\lib\\site-packages (from torch) (1.12)\n",
      "Requirement already satisfied: networkx in c:\\users\\schalk\\environments\\lib\\site-packages (from torch) (3.1)\n",
      "Requirement already satisfied: jinja2 in c:\\users\\schalk\\environments\\lib\\site-packages (from torch) (3.1.3)\n",
      "Requirement already satisfied: fsspec in c:\\users\\schalk\\environments\\lib\\site-packages (from torch) (2023.10.0)\n",
      "Requirement already satisfied: mkl<=2021.4.0,>=2021.1.1 in c:\\users\\schalk\\environments\\lib\\site-packages (from torch) (2021.4.0)\n",
      "Requirement already satisfied: numpy in c:\\users\\schalk\\environments\\lib\\site-packages (from torchvision) (1.26.4)\n",
      "Requirement already satisfied: pillow!=8.3.*,>=5.3.0 in c:\\users\\schalk\\environments\\lib\\site-packages (from torchvision) (10.2.0)\n",
      "Collecting huggingface-hub<1.0,>=0.23.0 (from transformers)\n",
      "  Downloading huggingface_hub-0.23.1-py3-none-any.whl.metadata (12 kB)\n",
      "Requirement already satisfied: packaging>=20.0 in c:\\users\\schalk\\environments\\lib\\site-packages (from transformers) (23.1)\n",
      "Requirement already satisfied: pyyaml>=5.1 in c:\\users\\schalk\\environments\\lib\\site-packages (from transformers) (6.0.1)\n",
      "Requirement already satisfied: regex!=2019.12.17 in c:\\users\\schalk\\environments\\lib\\site-packages (from transformers) (2023.10.3)\n",
      "Requirement already satisfied: requests in c:\\users\\schalk\\environments\\lib\\site-packages (from transformers) (2.31.0)\n",
      "Collecting tokenizers<0.20,>=0.19 (from transformers)\n",
      "  Downloading tokenizers-0.19.1-cp311-none-win_amd64.whl.metadata (6.9 kB)\n",
      "Collecting safetensors>=0.4.1 (from transformers)\n",
      "  Downloading safetensors-0.4.3-cp311-none-win_amd64.whl.metadata (3.9 kB)\n",
      "Requirement already satisfied: tqdm>=4.27 in c:\\users\\schalk\\environments\\lib\\site-packages (from transformers) (4.65.0)\n",
      "Collecting opencv-python-headless (from easyocr)\n",
      "  Downloading opencv_python_headless-4.9.0.80-cp37-abi3-win_amd64.whl.metadata (20 kB)\n",
      "Requirement already satisfied: scipy in c:\\users\\schalk\\environments\\lib\\site-packages (from easyocr) (1.11.4)\n",
      "Requirement already satisfied: scikit-image in c:\\users\\schalk\\environments\\lib\\site-packages (from easyocr) (0.22.0)\n",
      "Collecting python-bidi (from easyocr)\n",
      "  Downloading python_bidi-0.4.2-py2.py3-none-any.whl.metadata (4.6 kB)\n",
      "Collecting Shapely (from easyocr)\n",
      "  Downloading shapely-2.0.4-cp311-cp311-win_amd64.whl.metadata (7.2 kB)\n",
      "Collecting pyclipper (from easyocr)\n",
      "  Downloading pyclipper-1.3.0.post5-cp311-cp311-win_amd64.whl.metadata (9.2 kB)\n",
      "Collecting ninja (from easyocr)\n",
      "  Downloading ninja-1.11.1.1-py2.py3-none-win_amd64.whl.metadata (5.4 kB)\n",
      "Requirement already satisfied: intel-openmp==2021.* in c:\\users\\schalk\\environments\\lib\\site-packages (from mkl<=2021.4.0,>=2021.1.1->torch) (2021.4.0)\n",
      "Requirement already satisfied: tbb==2021.* in c:\\users\\schalk\\environments\\lib\\site-packages (from mkl<=2021.4.0,>=2021.1.1->torch) (2021.12.0)\n",
      "Requirement already satisfied: colorama in c:\\users\\schalk\\environments\\lib\\site-packages (from tqdm>=4.27->transformers) (0.4.6)\n",
      "Requirement already satisfied: MarkupSafe>=2.0 in c:\\users\\schalk\\environments\\lib\\site-packages (from jinja2->torch) (2.1.3)\n",
      "Requirement already satisfied: six in c:\\users\\schalk\\environments\\lib\\site-packages (from python-bidi->easyocr) (1.16.0)\n",
      "Requirement already satisfied: charset-normalizer<4,>=2 in c:\\users\\schalk\\environments\\lib\\site-packages (from requests->transformers) (2.0.4)\n",
      "Requirement already satisfied: idna<4,>=2.5 in c:\\users\\schalk\\environments\\lib\\site-packages (from requests->transformers) (3.4)\n",
      "Requirement already satisfied: urllib3<3,>=1.21.1 in c:\\users\\schalk\\environments\\lib\\site-packages (from requests->transformers) (2.0.7)\n",
      "Requirement already satisfied: certifi>=2017.4.17 in c:\\users\\schalk\\environments\\lib\\site-packages (from requests->transformers) (2024.2.2)\n",
      "Requirement already satisfied: imageio>=2.27 in c:\\users\\schalk\\environments\\lib\\site-packages (from scikit-image->easyocr) (2.33.1)\n",
      "Requirement already satisfied: tifffile>=2022.8.12 in c:\\users\\schalk\\environments\\lib\\site-packages (from scikit-image->easyocr) (2023.4.12)\n",
      "Requirement already satisfied: lazy_loader>=0.3 in c:\\users\\schalk\\environments\\lib\\site-packages (from scikit-image->easyocr) (0.3)\n",
      "Requirement already satisfied: mpmath>=0.19 in c:\\users\\schalk\\environments\\lib\\site-packages (from sympy->torch) (1.3.0)\n",
      "Downloading transformers-4.41.1-py3-none-any.whl (9.1 MB)\n",
      "   ---------------------------------------- 0.0/9.1 MB ? eta -:--:--\n",
      "   ------- -------------------------------- 1.8/9.1 MB 38.1 MB/s eta 0:00:01\n",
      "   --------- ------------------------------ 2.1/9.1 MB 22.5 MB/s eta 0:00:01\n",
      "   -------------------- ------------------- 4.8/9.1 MB 33.6 MB/s eta 0:00:01\n",
      "   ------------------------------- -------- 7.3/9.1 MB 38.6 MB/s eta 0:00:01\n",
      "   ---------------------------------------- 9.1/9.1 MB 38.6 MB/s eta 0:00:00\n",
      "Downloading easyocr-1.7.1-py3-none-any.whl (2.9 MB)\n",
      "   ---------------------------------------- 0.0/2.9 MB ? eta -:--:--\n",
      "   -------------------------- ------------- 1.9/2.9 MB 59.8 MB/s eta 0:00:01\n",
      "   ---------------------------------------- 2.9/2.9 MB 60.9 MB/s eta 0:00:00\n",
      "Downloading huggingface_hub-0.23.1-py3-none-any.whl (401 kB)\n",
      "   ---------------------------------------- 0.0/401.3 kB ? eta -:--:--\n",
      "   ---------------------------------------- 401.3/401.3 kB ? eta 0:00:00\n",
      "Downloading safetensors-0.4.3-cp311-none-win_amd64.whl (287 kB)\n",
      "   ---------------------------------------- 0.0/287.3 kB ? eta -:--:--\n",
      "   ---------------------------------------- 287.3/287.3 kB 8.9 MB/s eta 0:00:00\n",
      "Downloading tokenizers-0.19.1-cp311-none-win_amd64.whl (2.2 MB)\n",
      "   ---------------------------------------- 0.0/2.2 MB ? eta -:--:--\n",
      "   ---------------------------------------  2.2/2.2 MB 71.0 MB/s eta 0:00:01\n",
      "   ---------------------------------------- 2.2/2.2 MB 48.0 MB/s eta 0:00:00\n",
      "Downloading ninja-1.11.1.1-py2.py3-none-win_amd64.whl (312 kB)\n",
      "   ---------------------------------------- 0.0/313.0 kB ? eta -:--:--\n",
      "   ---------------------------------------- 313.0/313.0 kB ? eta 0:00:00\n",
      "Downloading opencv_python_headless-4.9.0.80-cp37-abi3-win_amd64.whl (38.5 MB)\n",
      "   ---------------------------------------- 0.0/38.5 MB ? eta -:--:--\n",
      "   -- ------------------------------------- 2.4/38.5 MB 76.2 MB/s eta 0:00:01\n",
      "   ----- ---------------------------------- 5.3/38.5 MB 67.2 MB/s eta 0:00:01\n",
      "   -------- ------------------------------- 7.8/38.5 MB 62.2 MB/s eta 0:00:01\n",
      "   ---------- ----------------------------- 10.5/38.5 MB 59.5 MB/s eta 0:00:01\n",
      "   ------------- -------------------------- 12.8/38.5 MB 54.7 MB/s eta 0:00:01\n",
      "   --------------- ------------------------ 15.3/38.5 MB 54.4 MB/s eta 0:00:01\n",
      "   ---------------- ----------------------- 16.3/38.5 MB 50.4 MB/s eta 0:00:01\n",
      "   ------------------- -------------------- 18.6/38.5 MB 43.5 MB/s eta 0:00:01\n",
      "   --------------------- ------------------ 20.9/38.5 MB 43.5 MB/s eta 0:00:01\n",
      "   ------------------------ --------------- 23.4/38.5 MB 46.7 MB/s eta 0:00:01\n",
      "   -------------------------- ------------- 25.8/38.5 MB 50.4 MB/s eta 0:00:01\n",
      "   ----------------------------- ---------- 28.5/38.5 MB 54.4 MB/s eta 0:00:01\n",
      "   ------------------------------- -------- 30.8/38.5 MB 54.7 MB/s eta 0:00:01\n",
      "   ---------------------------------- ----- 33.1/38.5 MB 54.7 MB/s eta 0:00:01\n",
      "   ------------------------------------ --- 35.5/38.5 MB 54.7 MB/s eta 0:00:01\n",
      "   -------------------------------------- - 36.9/38.5 MB 46.7 MB/s eta 0:00:01\n",
      "   ---------------------------------------  38.5/38.5 MB 46.9 MB/s eta 0:00:01\n",
      "   ---------------------------------------- 38.5/38.5 MB 36.4 MB/s eta 0:00:00\n",
      "Downloading pyclipper-1.3.0.post5-cp311-cp311-win_amd64.whl (108 kB)\n",
      "   ---------------------------------------- 0.0/108.3 kB ? eta -:--:--\n",
      "   ---------------------------------------- 108.3/108.3 kB ? eta 0:00:00\n",
      "Downloading python_bidi-0.4.2-py2.py3-none-any.whl (30 kB)\n",
      "Downloading shapely-2.0.4-cp311-cp311-win_amd64.whl (1.4 MB)\n",
      "   ---------------------------------------- 0.0/1.4 MB ? eta -:--:--\n",
      "   ---------------------------------------- 1.4/1.4 MB 46.2 MB/s eta 0:00:00\n",
      "Installing collected packages: pyclipper, ninja, Shapely, safetensors, python-bidi, opencv-python-headless, huggingface-hub, tokenizers, transformers, easyocr\n",
      "Successfully installed Shapely-2.0.4 easyocr-1.7.1 huggingface-hub-0.23.1 ninja-1.11.1.1 opencv-python-headless-4.9.0.80 pyclipper-1.3.0.post5 python-bidi-0.4.2 safetensors-0.4.3 tokenizers-0.19.1 transformers-4.41.1\n",
      "Note: you may need to restart the kernel to use updated packages.\n"
     ]
    }
   ],
   "source": [
    "pip install torch torchvision transformers easyocr"
   ]
  },
  {
   "cell_type": "code",
   "execution_count": 2,
   "id": "44f7afcf-2a5b-43f5-8459-c71ca84fc402",
   "metadata": {},
   "outputs": [
    {
     "name": "stderr",
     "output_type": "stream",
     "text": [
      "Neither CUDA nor MPS are available - defaulting to CPU. Note: This module is much faster with a GPU.\n",
      "Downloading detection model, please wait. This may take several minutes depending upon your network connection.\n"
     ]
    },
    {
     "name": "stdout",
     "output_type": "stream",
     "text": [
      "Progress: |██████████████████████████████████████████████████| 100.0% Complete"
     ]
    },
    {
     "name": "stderr",
     "output_type": "stream",
     "text": [
      "Downloading recognition model, please wait. This may take several minutes depending upon your network connection.\n"
     ]
    },
    {
     "name": "stdout",
     "output_type": "stream",
     "text": [
      "Progress: |██████████████████████████████████████████████████| 100.0% Complete"
     ]
    },
    {
     "data": {
      "application/vnd.jupyter.widget-view+json": {
       "model_id": "ca0531e06fdb48798ae29e1a33929d28",
       "version_major": 2,
       "version_minor": 0
      },
      "text/plain": [
       "tokenizer_config.json:   0%|          | 0.00/59.0 [00:00<?, ?B/s]"
      ]
     },
     "metadata": {},
     "output_type": "display_data"
    },
    {
     "name": "stderr",
     "output_type": "stream",
     "text": [
      "C:\\Users\\Schalk\\Environments\\Lib\\site-packages\\huggingface_hub\\file_download.py:157: UserWarning: `huggingface_hub` cache-system uses symlinks by default to efficiently store duplicated files but your machine does not support them in C:\\Users\\Schalk\\.cache\\huggingface\\hub\\models--dslim--bert-base-NER. Caching files will still work but in a degraded version that might require more space on your disk. This warning can be disabled by setting the `HF_HUB_DISABLE_SYMLINKS_WARNING` environment variable. For more details, see https://huggingface.co/docs/huggingface_hub/how-to-cache#limitations.\n",
      "To support symlinks on Windows, you either need to activate Developer Mode or to run Python as an administrator. In order to see activate developer mode, see this article: https://docs.microsoft.com/en-us/windows/apps/get-started/enable-your-device-for-development\n",
      "  warnings.warn(message)\n",
      "C:\\Users\\Schalk\\Environments\\Lib\\site-packages\\huggingface_hub\\file_download.py:1132: FutureWarning: `resume_download` is deprecated and will be removed in version 1.0.0. Downloads always resume when possible. If you want to force a new download, use `force_download=True`.\n",
      "  warnings.warn(\n"
     ]
    },
    {
     "data": {
      "application/vnd.jupyter.widget-view+json": {
       "model_id": "0fdf4d877b36447b8ec711186acb5ce0",
       "version_major": 2,
       "version_minor": 0
      },
      "text/plain": [
       "config.json:   0%|          | 0.00/829 [00:00<?, ?B/s]"
      ]
     },
     "metadata": {},
     "output_type": "display_data"
    },
    {
     "data": {
      "application/vnd.jupyter.widget-view+json": {
       "model_id": "fadb5f6bdbbf4f369fbeae368c079875",
       "version_major": 2,
       "version_minor": 0
      },
      "text/plain": [
       "vocab.txt:   0%|          | 0.00/213k [00:00<?, ?B/s]"
      ]
     },
     "metadata": {},
     "output_type": "display_data"
    },
    {
     "data": {
      "application/vnd.jupyter.widget-view+json": {
       "model_id": "17a5df1fe3ed40719e40aae184738deb",
       "version_major": 2,
       "version_minor": 0
      },
      "text/plain": [
       "added_tokens.json:   0%|          | 0.00/2.00 [00:00<?, ?B/s]"
      ]
     },
     "metadata": {},
     "output_type": "display_data"
    },
    {
     "data": {
      "application/vnd.jupyter.widget-view+json": {
       "model_id": "10e6ba2bcc2a4d7facbd065b79591174",
       "version_major": 2,
       "version_minor": 0
      },
      "text/plain": [
       "special_tokens_map.json:   0%|          | 0.00/112 [00:00<?, ?B/s]"
      ]
     },
     "metadata": {},
     "output_type": "display_data"
    },
    {
     "data": {
      "application/vnd.jupyter.widget-view+json": {
       "model_id": "046ddcdbda4448e1a82d87b03f214e86",
       "version_major": 2,
       "version_minor": 0
      },
      "text/plain": [
       "model.safetensors:   0%|          | 0.00/433M [00:00<?, ?B/s]"
      ]
     },
     "metadata": {},
     "output_type": "display_data"
    },
    {
     "name": "stderr",
     "output_type": "stream",
     "text": [
      "Some weights of the model checkpoint at dslim/bert-base-NER were not used when initializing BertForTokenClassification: ['bert.pooler.dense.bias', 'bert.pooler.dense.weight']\n",
      "- This IS expected if you are initializing BertForTokenClassification from the checkpoint of a model trained on another task or with another architecture (e.g. initializing a BertForSequenceClassification model from a BertForPreTraining model).\n",
      "- This IS NOT expected if you are initializing BertForTokenClassification from the checkpoint of a model that you expect to be exactly identical (initializing a BertForSequenceClassification model from a BertForSequenceClassification model).\n"
     ]
    }
   ],
   "source": [
    "import torch\n",
    "import torch.nn as nn\n",
    "import torchvision.transforms as transforms\n",
    "from torchvision.models import resnet50\n",
    "import easyocr\n",
    "from transformers import AutoTokenizer, AutoModelForTokenClassification\n",
    "from transformers import pipeline\n",
    "from PIL import Image\n",
    "\n",
    "# Step 1: Define the CNN for image feature extraction\n",
    "class CNNFeatureExtractor(nn.Module):\n",
    "    def __init__(self):\n",
    "        super(CNNFeatureExtractor, self).__init__()\n",
    "        self.cnn = resnet50(pretrained=True)\n",
    "        self.cnn.fc = nn.Identity()  # Remove the final classification layer\n",
    "\n",
    "    def forward(self, x):\n",
    "        features = self.cnn(x)\n",
    "        return features\n",
    "\n",
    "# Step 2: Setup OCR using EasyOCR\n",
    "reader = easyocr.Reader(['en'])  # Initialize EasyOCR reader\n",
    "\n",
    "# Step 3: Setup NER using Hugging Face Transformers\n",
    "tokenizer = AutoTokenizer.from_pretrained('dslim/bert-base-NER')\n",
    "ner_model = AutoModelForTokenClassification.from_pretrained('dslim/bert-base-NER')\n",
    "ner_pipeline = pipeline('ner', model=ner_model, tokenizer=tokenizer)\n",
    "\n",
    "# Step 4: Define a function to process the image and extract subjects and grades\n",
    "def process_transcript(image_path):\n",
    "    # Load and preprocess the image\n",
    "    image = Image.open(image_path).convert('RGB')\n",
    "    transform = transforms.Compose([\n",
    "        transforms.Resize((224, 224)),\n",
    "        transforms.ToTensor(),\n",
    "        transforms.Normalize(mean=[0.485, 0.456, 0.406], std=[0.229, 0.224, 0.225]),\n",
    "    ])\n",
    "    image = transform(image).unsqueeze(0)\n",
    "\n",
    "    # Extract features using the CNN\n",
    "    cnn_extractor = CNNFeatureExtractor()\n",
    "    features = cnn_extractor(image)\n",
    "    \n",
    "    # Perform OCR to get text from the image\n",
    "    ocr_result = reader.readtext(image_path)\n",
    "    text = ' '.join([item[1] for item in ocr_result])\n",
    "    \n",
    "    # Perform NER to extract subjects and grades\n",
    "    ner_results = ner_pipeline(text)\n",
    "    subjects_and_grades = [(result['word'], result['entity']) for result in ner_results]\n",
    "\n",
    "    return subjects_and_grades"
   ]
  },
  {
   "cell_type": "code",
   "execution_count": 6,
   "id": "5b489d53-08fc-414b-9491-1486b6cefe11",
   "metadata": {},
   "outputs": [
    {
     "name": "stdout",
     "output_type": "stream",
     "text": [
      "[('Merlin', 'B-ORG'), ('Am', 'I-ORG'), ('##ade', 'I-ORG'), ('##us', 'I-ORG'), ('Arch', 'I-ORG'), ('##imed', 'I-ORG'), ('##es', 'I-ORG'), ('G', 'I-ORG'), ('##rad', 'I-ORG'), ('Big', 'B-LOC'), ('Brain', 'I-ORG'), ('Boulevard', 'I-ORG'), ('Al', 'I-ORG'), ('##ge', 'I-ORG'), ('Col', 'B-ORG'), ('Cal', 'B-MISC'), ('AJ', 'B-ORG'), ('Am', 'B-ORG'), ('##C', 'I-ORG'), ('Federal', 'B-ORG'), ('Government', 'I-ORG'), ('AJ', 'I-ORG'), ('##C', 'I-ORG'), ('E', 'B-MISC'), ('AJ', 'B-ORG'), ('E', 'B-MISC'), ('E', 'B-MISC')]\n"
     ]
    }
   ],
   "source": [
    "# Example usage\n",
    "image_path = r'C:\\Users\\Schalk\\OneDrive - Columbia Business School\\Coding\\000. data\\transcripts\\example2.jpg'  # Can be a PNG, JPG, etc.\n",
    "subjects_and_grades = process_transcript(image_path)\n",
    "print(subjects_and_grades)"
   ]
  }
 ],
 "metadata": {
  "kernelspec": {
   "display_name": "Python 3 (ipykernel)",
   "language": "python",
   "name": "python3"
  },
  "language_info": {
   "codemirror_mode": {
    "name": "ipython",
    "version": 3
   },
   "file_extension": ".py",
   "mimetype": "text/x-python",
   "name": "python",
   "nbconvert_exporter": "python",
   "pygments_lexer": "ipython3",
   "version": "3.11.7"
  }
 },
 "nbformat": 4,
 "nbformat_minor": 5
}
