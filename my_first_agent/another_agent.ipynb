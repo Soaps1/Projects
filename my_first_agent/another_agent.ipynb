{
 "cells": [
  {
   "cell_type": "code",
   "execution_count": null,
   "id": "86c23ce9-cb02-46fc-8646-c792e2abb756",
   "metadata": {},
   "outputs": [],
   "source": [
    "import getpass\n",
    "import os\n",
    "from pinecone import Pinecone, ServerlessSpec\n",
    "from langchain_pinecone import PineconeVectorStore\n",
    "\n",
    "os.environ[\"LANGCHAIN_TRACING_V2\"] = \"true\"\n",
    "os.environ[\"LANGCHAIN_API_KEY\"] = getpass.getpass()"
   ]
  },
  {
   "cell_type": "code",
   "execution_count": null,
   "id": "f98ef432-379f-4efb-b4f2-60b3617b9c2c",
   "metadata": {},
   "outputs": [],
   "source": [
    "os.environ[\"OPENAI_API_KEY\"] = getpass.getpass()"
   ]
  },
  {
   "cell_type": "code",
   "execution_count": null,
   "id": "9ef89c78-6b2f-46e4-a8f1-dea50fa88fc6",
   "metadata": {},
   "outputs": [],
   "source": [
    "os.environ[\"TAVILY_API_KEY\"] = getpass.getpass()"
   ]
  },
  {
   "cell_type": "code",
   "execution_count": null,
   "id": "2a894b0e-6185-4abf-a02a-d5c533cc5980",
   "metadata": {},
   "outputs": [],
   "source": [
    "pc = Pinecone(api_key=\"Key\")"
   ]
  },
  {
   "cell_type": "code",
   "execution_count": null,
   "id": "bad59fc0-d7ea-4cf4-948b-c90a814414c7",
   "metadata": {},
   "outputs": [],
   "source": [
    "os.environ[\"LANGCHAIN_TRACING_V2\"] = \"true\"\n",
    "os.environ['LANGCHAIN_PROJECT'] = 'testing-pinecone'"
   ]
  },
  {
   "cell_type": "code",
   "execution_count": null,
   "id": "b316d9ae-5c94-4c13-a7f6-31b262cabc25",
   "metadata": {},
   "outputs": [],
   "source": [
    "pc.create_index(\n",
    "    name=\"quiddity-essence1\",\n",
    "    dimension=1536, \n",
    "    metric=\"euclidean\", \n",
    "    spec=ServerlessSpec(\n",
    "        cloud=\"aws\",\n",
    "        region=\"us-east-1\"\n",
    "    ) \n",
    ")"
   ]
  },
  {
   "cell_type": "code",
   "execution_count": null,
   "id": "5b6105b1-b796-4b97-8bb1-0a13adf9539e",
   "metadata": {},
   "outputs": [],
   "source": [
    "from langchain_community.tools.tavily_search import TavilySearchResults"
   ]
  },
  {
   "cell_type": "code",
   "execution_count": null,
   "id": "0e87966f-965c-4765-ab2d-57bbb9762449",
   "metadata": {},
   "outputs": [],
   "source": [
    "search = TavilySearchResults(max_results=2)"
   ]
  },
  {
   "cell_type": "code",
   "execution_count": null,
   "id": "b6e77306-b70d-4e0e-a7d5-fc6bb5319a98",
   "metadata": {},
   "outputs": [],
   "source": [
    "search.invoke(\"what happened to Scottie Scheffler today\")"
   ]
  },
  {
   "cell_type": "code",
   "execution_count": null,
   "id": "ffd76027-b3e6-4051-a29b-96f3228a598e",
   "metadata": {},
   "outputs": [],
   "source": [
    "from langchain_community.document_loaders import WebBaseLoader\n",
    "from langchain_community.vectorstores import FAISS\n",
    "from langchain_openai import OpenAIEmbeddings\n",
    "from langchain_text_splitters import RecursiveCharacterTextSplitter\n",
    "\n",
    "loader = WebBaseLoader(\"https://www.wowhead.com/\")\n",
    "docs = loader.load()\n",
    "documents = RecursiveCharacterTextSplitter(\n",
    "    chunk_size=1000, chunk_overlap=200\n",
    ").split_documents(docs)\n",
    "\n",
    "embeddings = OpenAIEmbeddings()\n",
    "vector_store = PineconeVectorStore.from_documents(documents, \"quiddity-essence1\", embeddings)\n",
    "retriever = vector_store.as_retriever()"
   ]
  }
 ],
 "metadata": {
  "kernelspec": {
   "display_name": "Python 3 (ipykernel)",
   "language": "python",
   "name": "python3"
  },
  "language_info": {
   "codemirror_mode": {
    "name": "ipython",
    "version": 3
   },
   "file_extension": ".py",
   "mimetype": "text/x-python",
   "name": "python",
   "nbconvert_exporter": "python",
   "pygments_lexer": "ipython3",
   "version": "3.11.7"
  }
 },
 "nbformat": 4,
 "nbformat_minor": 5
}
